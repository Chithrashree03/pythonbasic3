{
 "cells": [
  {
   "cell_type": "markdown",
   "id": "18f78f5d-52f6-4cc5-8268-780d89c75110",
   "metadata": {},
   "source": [
    "# loops"
   ]
  },
  {
   "cell_type": "markdown",
   "id": "20828f25-417f-4f63-8c12-a656198a1de0",
   "metadata": {},
   "source": [
    "### Print numbers from 1 to 10 using a for loop."
   ]
  },
  {
   "cell_type": "code",
   "execution_count": 5,
   "id": "9dbdd303-eca0-48f8-9f5b-b0d1e302bf07",
   "metadata": {},
   "outputs": [
    {
     "name": "stdout",
     "output_type": "stream",
     "text": [
      "1\n",
      "2\n",
      "3\n",
      "4\n",
      "5\n",
      "6\n",
      "7\n",
      "8\n",
      "9\n"
     ]
    }
   ],
   "source": [
    "for i in range(1, 10):\n",
    "    print(i)"
   ]
  },
  {
   "cell_type": "markdown",
   "id": "edc8c401-94da-4807-8b0e-021e6fbfe9a8",
   "metadata": {},
   "source": [
    "### Print even numbers from 2 to 20 using range()."
   ]
  },
  {
   "cell_type": "code",
   "execution_count": 8,
   "id": "2ea69a7b-2428-411d-a9b9-0c35d5a2ce49",
   "metadata": {},
   "outputs": [
    {
     "name": "stdout",
     "output_type": "stream",
     "text": [
      "2\n",
      "4\n",
      "6\n",
      "8\n",
      "10\n",
      "12\n",
      "14\n",
      "16\n",
      "18\n"
     ]
    }
   ],
   "source": [
    "for i in range(2,20,2):\n",
    "    print(i)"
   ]
  },
  {
   "cell_type": "markdown",
   "id": "d4924aa5-3b3b-482e-b213-d60b75a0e218",
   "metadata": {},
   "source": [
    "### Print \"Python is fun\" 5 times using a while loop. "
   ]
  },
  {
   "cell_type": "code",
   "execution_count": 11,
   "id": "2f2f8217-090f-4d5a-9b79-d6d6aa7be9bb",
   "metadata": {},
   "outputs": [
    {
     "name": "stdout",
     "output_type": "stream",
     "text": [
      "python is fun 1\n",
      "python is fun 2\n",
      "python is fun 3\n",
      "python is fun 4\n",
      "python is fun 5\n"
     ]
    }
   ],
   "source": [
    "count = 1\n",
    "while count <= 5:\n",
    "    print(\"python is fun\", count)\n",
    "    count = count + 1"
   ]
  },
  {
   "cell_type": "markdown",
   "id": "352bb2c8-fc5f-42cf-bf97-7b2ff8f4edce",
   "metadata": {},
   "source": [
    "### Print each character in the string \"Data Science\"  "
   ]
  },
  {
   "cell_type": "code",
   "execution_count": 14,
   "id": "f0b6bdd5-0230-4a22-b342-c9707bf65db1",
   "metadata": {},
   "outputs": [
    {
     "name": "stdout",
     "output_type": "stream",
     "text": [
      "D\n",
      "A\n",
      "T\n",
      "A\n",
      " \n",
      "S\n",
      "C\n",
      "I\n",
      "E\n",
      "N\n",
      "C\n",
      "E\n"
     ]
    }
   ],
   "source": [
    "name = \"DATA SCIENCE\"\n",
    "for char in name:\n",
    "    print(char)"
   ]
  },
  {
   "cell_type": "markdown",
   "id": "9cb93c2e-9051-486c-ab62-9df50cb49be6",
   "metadata": {},
   "source": [
    "### Print each letter of your name using a loop"
   ]
  },
  {
   "cell_type": "code",
   "execution_count": 17,
   "id": "21f50ee6-b8b9-4b96-842d-caf163348f5d",
   "metadata": {},
   "outputs": [
    {
     "name": "stdout",
     "output_type": "stream",
     "text": [
      "C\n",
      "H\n",
      "I\n",
      "T\n",
      "H\n",
      "R\n",
      "A\n",
      "S\n",
      "H\n",
      "R\n",
      "E\n",
      "E\n"
     ]
    }
   ],
   "source": [
    "name = \"CHITHRASHREE\"\n",
    "for char in name:\n",
    "    print(char)"
   ]
  },
  {
   "cell_type": "markdown",
   "id": "bd128d97-2ee6-46a1-ad40-38591ba53e53",
   "metadata": {},
   "source": [
    "### Use a while loop to print numbers from 10 to 1"
   ]
  },
  {
   "cell_type": "code",
   "execution_count": 20,
   "id": "5b7d7163-c6ac-4703-aec6-a6b52efb4f57",
   "metadata": {},
   "outputs": [
    {
     "name": "stdout",
     "output_type": "stream",
     "text": [
      "10\n",
      "9\n",
      "8\n",
      "7\n",
      "6\n",
      "5\n",
      "4\n",
      "3\n",
      "2\n",
      "1\n"
     ]
    }
   ],
   "source": [
    "i = 10\n",
    "while i >= 1:\n",
    "    print(i)\n",
    "    i = i - 1"
   ]
  },
  {
   "cell_type": "markdown",
   "id": "79a473ab-3e06-4c44-85b5-d76c1da83ea8",
   "metadata": {},
   "source": [
    "### Use a for loop to calculate the sum of numbers from 1 to 100"
   ]
  },
  {
   "cell_type": "code",
   "execution_count": 23,
   "id": "98795ca8-24d9-48e8-a6ac-00938cb3440e",
   "metadata": {},
   "outputs": [
    {
     "name": "stdout",
     "output_type": "stream",
     "text": [
      "1\n",
      "3\n",
      "6\n",
      "10\n",
      "15\n",
      "21\n",
      "28\n",
      "36\n",
      "45\n",
      "55\n",
      "66\n",
      "78\n",
      "91\n",
      "105\n",
      "120\n",
      "136\n",
      "153\n",
      "171\n",
      "190\n",
      "210\n",
      "231\n",
      "253\n",
      "276\n",
      "300\n",
      "325\n",
      "351\n",
      "378\n",
      "406\n",
      "435\n",
      "465\n",
      "496\n",
      "528\n",
      "561\n",
      "595\n",
      "630\n",
      "666\n",
      "703\n",
      "741\n",
      "780\n",
      "820\n",
      "861\n",
      "903\n",
      "946\n",
      "990\n",
      "1035\n",
      "1081\n",
      "1128\n",
      "1176\n",
      "1225\n",
      "1275\n",
      "1326\n",
      "1378\n",
      "1431\n",
      "1485\n",
      "1540\n",
      "1596\n",
      "1653\n",
      "1711\n",
      "1770\n",
      "1830\n",
      "1891\n",
      "1953\n",
      "2016\n",
      "2080\n",
      "2145\n",
      "2211\n",
      "2278\n",
      "2346\n",
      "2415\n",
      "2485\n",
      "2556\n",
      "2628\n",
      "2701\n",
      "2775\n",
      "2850\n",
      "2926\n",
      "3003\n",
      "3081\n",
      "3160\n",
      "3240\n",
      "3321\n",
      "3403\n",
      "3486\n",
      "3570\n",
      "3655\n",
      "3741\n",
      "3828\n",
      "3916\n",
      "4005\n",
      "4095\n",
      "4186\n",
      "4278\n",
      "4371\n",
      "4465\n",
      "4560\n",
      "4656\n",
      "4753\n",
      "4851\n",
      "4950\n",
      "5050\n"
     ]
    }
   ],
   "source": [
    "num=0\n",
    "for number in range(1, 101):\n",
    "    num += number\n",
    "    print(num)"
   ]
  },
  {
   "cell_type": "markdown",
   "id": "af248684-e12a-4458-af02-a4d176eee2d9",
   "metadata": {},
   "source": [
    "### Write a loop that asks for numbers from the user and stops when the user enters 0. Use a while loop and break."
   ]
  },
  {
   "cell_type": "code",
   "execution_count": 29,
   "id": "5bd26270-9b0e-4bcb-8855-82523a8fc823",
   "metadata": {},
   "outputs": [
    {
     "name": "stdin",
     "output_type": "stream",
     "text": [
      "Enter a number (0 to stop): 44\n"
     ]
    },
    {
     "name": "stdout",
     "output_type": "stream",
     "text": [
      "44\n",
      "44\n"
     ]
    },
    {
     "name": "stdin",
     "output_type": "stream",
     "text": [
      "Enter a number (0 to stop): 0\n"
     ]
    },
    {
     "name": "stdout",
     "output_type": "stream",
     "text": [
      "0\n"
     ]
    }
   ],
   "source": [
    "while True:\n",
    "    num=int(input(\"Enter a number (0 to stop):\"))\n",
    "    print(num)\n",
    "    if num == 0:\n",
    "        break\n",
    "    print(f\"{num}\")"
   ]
  },
  {
   "cell_type": "markdown",
   "id": "deea7de5-83b5-4d54-b0dc-924b0d4902d2",
   "metadata": {},
   "source": [
    "###  Print numbers from 1 to 10, skipping 5 using a for loop and continue."
   ]
  },
  {
   "cell_type": "code",
   "execution_count": 27,
   "id": "7068715f-0359-4e46-899b-f2a2a6e0dcb3",
   "metadata": {},
   "outputs": [
    {
     "name": "stdout",
     "output_type": "stream",
     "text": [
      "1\n",
      "2\n",
      "3\n",
      "4\n",
      "6\n",
      "7\n",
      "8\n",
      "9\n",
      "10\n"
     ]
    }
   ],
   "source": [
    "for i in range(1,11):\n",
    "    if(i ==5):\n",
    "        continue\n",
    "    print(i)"
   ]
  },
  {
   "cell_type": "code",
   "execution_count": null,
   "id": "eef29f23-fd6c-48f1-8473-1b320dc39331",
   "metadata": {},
   "outputs": [],
   "source": []
  }
 ],
 "metadata": {
  "kernelspec": {
   "display_name": "Python [conda env:base] *",
   "language": "python",
   "name": "conda-base-py"
  },
  "language_info": {
   "codemirror_mode": {
    "name": "ipython",
    "version": 3
   },
   "file_extension": ".py",
   "mimetype": "text/x-python",
   "name": "python",
   "nbconvert_exporter": "python",
   "pygments_lexer": "ipython3",
   "version": "3.12.7"
  }
 },
 "nbformat": 4,
 "nbformat_minor": 5
}
